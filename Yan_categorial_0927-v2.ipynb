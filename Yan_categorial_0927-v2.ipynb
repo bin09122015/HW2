{
 "cells": [
  {
   "cell_type": "code",
   "execution_count": 30,
   "metadata": {
    "collapsed": false
   },
   "outputs": [],
   "source": [
    "import sys\n",
    "import os\n",
    "\n",
    "%matplotlib inline \n",
    "from __future__ import division\n",
    "import numpy as np\n",
    "import matplotlib.pylab as plt\n",
    "import pandas as pd\n",
    "from scipy.stats import chisquare, chi2_contingency\n",
    "\n",
    "BASE_COUNT = 50\n",
    "\n",
    "def readData(file):\n",
    "    fin = open(file, 'r')\n",
    "    data = fin.read()\n",
    "    fin.close()\n",
    "\n",
    "    data = list(map(lambda s: s.strip(), data))  # remove '/n'\n",
    "    data = list(filter(None, data))  # remove empty string\n",
    "    \n",
    "    return data\n",
    "\n",
    "def detectChange_Categoral(threshold, WINDOW_LEN, MOVING_INTERVAL, data):\n",
    "    baseline = data[0:BASE_COUNT]\n",
    "\n",
    "    variables = list(set(baseline))\n",
    "    \n",
    "    freq_old = np.zeros(len(variables))\n",
    "    freq = np.zeros(len(variables))\n",
    "\n",
    "    k = 0\n",
    "    while (k + 2 * WINDOW_LEN < len(data)):\n",
    "        \n",
    "        p = calculateP(variables, k, data, WINDOW_LEN)\n",
    "\n",
    "        \n",
    "        if(k + WINDOW_LEN > 50 and p < threshold):\n",
    "            start = k + WINDOW_LEN            \n",
    "            for i in range(WINDOW_LEN):\n",
    "                k_track = start - WINDOW_LEN - i\n",
    "                p_track = calculateP(variables, k_track, data, WINDOW_LEN)\n",
    "                if(p_track > 0.05):\n",
    "                    end = k_track + 2*WINDOW_LEN\n",
    "                    break\n",
    "\n",
    "            if (end - WINDOW_LEN/2 > start):\n",
    "                position = int(end - WINDOW_LEN/2)\n",
    "            else:\n",
    "                position = int((start + end)/2)\n",
    "            \n",
    "            return position\n",
    "\n",
    "        k = k + MOVING_INTERVAL        \n",
    "    \n",
    "    return -1\n",
    "\n",
    "    \n",
    "    \n",
    "def calculateP(variables, k, data, WINDOW_LEN):\n",
    "    \n",
    "    freq_old = np.zeros(len(variables))\n",
    "    freq = np.zeros(len(variables))\n",
    "\n",
    "    for i in range(len(variables)):\n",
    "        sample = data[k:k+WINDOW_LEN]\n",
    "        freq_old[i] = sample.count(variables[i])\n",
    "\n",
    "        sample = data[k+WINDOW_LEN : k+2*WINDOW_LEN]\n",
    "        freq[i] = sample.count(variables[i])\n",
    "\n",
    "    if (sum(freq==0)>0 or sum(freq_old==0)>0):\n",
    "        chi = chisquare(freq, freq_old)\n",
    "    else:\n",
    "        chi = chi2_contingency([freq,freq_old], correction=True)\n",
    "\n",
    "    if (len(variables)==2):\n",
    "        chi = chisquare(freq, freq_old)\n",
    "    \n",
    "    p = chi[1]\n",
    "        \n",
    "    return p"
   ]
  },
  {
   "cell_type": "code",
   "execution_count": 32,
   "metadata": {
    "collapsed": false
   },
   "outputs": [
    {
     "name": "stdout",
     "output_type": "stream",
     "text": [
      "sampleData/posTriple_175.txt 163\n",
      "sampleData/posTripleDouble_175.txt 176\n",
      "sampleData/posTriple2_160.txt 161\n",
      "sampleData/posBinary_150.txt 143\n",
      "sampleData/negTriple.txt -1\n",
      "sampleData/negBinary.txt -1\n",
      "sampleData/negWithRare.txt -1\n"
     ]
    }
   ],
   "source": [
    "files = ['sampleData/posTriple_175.txt', 'sampleData/posTripleDouble_175.txt', 'sampleData/posTriple2_160.txt', \n",
    "        'sampleData/posBinary_150.txt', 'sampleData/negTriple.txt', 'sampleData/negBinary.txt',\n",
    "        'sampleData/negWithRare.txt']\n",
    "\n",
    "WINDOW_LEN = 40\n",
    "MOVING_INTERVAL = 5\n",
    "\n",
    "# 40, 5, 0.0005 works good so far.\n",
    "\n",
    "# files = ['sampleData/posBinary_150.txt']\n",
    "\n",
    "\n",
    "for i in range(len(files)):\n",
    "    file = files[i]\n",
    "    data = readData(file)\n",
    "\n",
    "    print(file, detectChange_Categoral(0.0005, 40, 1, data))"
   ]
  },
  {
   "cell_type": "code",
   "execution_count": 49,
   "metadata": {
    "collapsed": false
   },
   "outputs": [],
   "source": [
    "testFile = np.random.choice(['i','j','k'], size=139, replace=True, p=[0.1,0.8,0.1])\n",
    "testFile = np.append(testFile,np.random.choice(['i','j','k'], size=300, replace=True, p=[0.5,0.4,0.1]))\n",
    "\n",
    "f = open('test_Yan/bin_posTriple2_140.txt', 'w+') #open file for write and read\n",
    "for s in testFile:\n",
    "    f.write(str(s) + \"\\n\")\n",
    "f.close()\n"
   ]
  }
 ],
 "metadata": {
  "kernelspec": {
   "display_name": "Python 3",
   "language": "python",
   "name": "python3"
  },
  "language_info": {
   "codemirror_mode": {
    "name": "ipython",
    "version": 3
   },
   "file_extension": ".py",
   "mimetype": "text/x-python",
   "name": "python",
   "nbconvert_exporter": "python",
   "pygments_lexer": "ipython3",
   "version": "3.4.3"
  }
 },
 "nbformat": 4,
 "nbformat_minor": 0
}
