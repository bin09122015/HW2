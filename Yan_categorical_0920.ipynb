{
 "cells": [
  {
   "cell_type": "code",
   "execution_count": 1,
   "metadata": {
    "collapsed": true
   },
   "outputs": [],
   "source": [
    "import sys\n",
    "import os\n",
    "\n",
    "BASE_COUNT = 50\n",
    "\n",
    "def run(dirname, file):\n",
    "  f = open(dirname + '/' + file)\n",
    "  entries = []\n",
    "\n",
    "  for i in range(50):\n",
    "    entry = f.readline().strip()\n",
    "    entries.append(entry)\n",
    "    \n",
    "  print (file, entries)"
   ]
  },
  {
   "cell_type": "code",
   "execution_count": 30,
   "metadata": {
    "collapsed": false
   },
   "outputs": [
    {
     "name": "stdout",
     "output_type": "stream",
     "text": [
      "['a', 'b']\n"
     ]
    }
   ],
   "source": [
    "# Read in all the data first just for testing\n",
    "\n",
    "fin = open('sampleData/posBinary_150.txt', 'r')\n",
    "data = fin.read()\n",
    "fin.close()\n",
    "\n",
    "data = list(map(lambda s: s.strip(), data))  # remove '/n'\n",
    "data = list(filter(None, data))  # remove empty string\n",
    "# data is a list now\n",
    "\n",
    "baseline = data[0:BASE_COUNT]\n",
    "\n",
    "variables = list(set(baseline))\n",
    "\n",
    "print(variables)"
   ]
  },
  {
   "cell_type": "code",
   "execution_count": 42,
   "metadata": {
    "collapsed": false
   },
   "outputs": [
    {
     "name": "stdout",
     "output_type": "stream",
     "text": [
      "50 (0.33333333333333337, 0.5637028616507731)\n",
      "100 (0.0, 1.0)\n",
      "150 (0.0, 1.0)\n",
      "200 (0.0, 1.0)\n",
      "250 (0.0, 1.0)\n"
     ]
    }
   ],
   "source": [
    "%matplotlib inline \n",
    "from __future__ import division\n",
    "import numpy as np\n",
    "import matplotlib.pylab as plt\n",
    "import pandas as pd\n",
    "from scipy.stats import chisquare\n",
    "\n",
    "WINDOW_LEN = 50\n",
    "MOVING_INTERVAL = 50\n",
    "\n",
    "\n",
    "freq_old = np.zeros(len(variables))\n",
    "freq = np.zeros(len(variables))\n",
    "\n",
    "\n",
    "for i in range(len(variables)):\n",
    "    freq_old[i] = baseline.count(variables[i])\n",
    "\n",
    "k = MOVING_INTERVAL\n",
    "while (k + WINDOW_LEN < len(data)):\n",
    "    for i in range(len(variables)):\n",
    "        sample = data[k:k+WINDOW_LEN]\n",
    "        freq[i] = sample.count(variables[i])\n",
    "    \n",
    "    chi = chisquare(freq, freq_old)\n",
    "    print(k,chi)\n",
    "    \n",
    "    k = k + MOVING_INTERVAL\n",
    "    #freq_old = freq\n",
    "    "
   ]
  },
  {
   "cell_type": "code",
   "execution_count": 33,
   "metadata": {
    "collapsed": false
   },
   "outputs": [
    {
     "data": {
      "text/plain": [
       "174"
      ]
     },
     "execution_count": 33,
     "metadata": {},
     "output_type": "execute_result"
    }
   ],
   "source": [
    "data.count(variables[0])"
   ]
  }
 ],
 "metadata": {
  "kernelspec": {
   "display_name": "Python 3",
   "language": "python",
   "name": "python3"
  },
  "language_info": {
   "codemirror_mode": {
    "name": "ipython",
    "version": 3
   },
   "file_extension": ".py",
   "mimetype": "text/x-python",
   "name": "python",
   "nbconvert_exporter": "python",
   "pygments_lexer": "ipython3",
   "version": "3.4.3"
  }
 },
 "nbformat": 4,
 "nbformat_minor": 0
}
