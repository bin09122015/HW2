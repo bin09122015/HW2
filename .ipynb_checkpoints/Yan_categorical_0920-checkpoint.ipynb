{
 "cells": [
  {
   "cell_type": "code",
   "execution_count": 1,
   "metadata": {
    "collapsed": true
   },
   "outputs": [],
   "source": [
    "import sys\n",
    "import os\n",
    "\n",
    "BASE_COUNT = 50\n",
    "\n",
    "def run(dirname, file):\n",
    "  f = open(dirname + '/' + file)\n",
    "  entries = []\n",
    "\n",
    "  for i in range(50):\n",
    "    entry = f.readline().strip()\n",
    "    entries.append(entry)\n",
    "    \n",
    "  print (file, entries)"
   ]
  },
  {
   "cell_type": "code",
   "execution_count": 30,
   "metadata": {
    "collapsed": false
   },
   "outputs": [
    {
     "name": "stdout",
     "output_type": "stream",
     "text": [
      "['a', 'b']\n"
     ]
    }
   ],
   "source": [
    "# Read in all the data first just for testing\n",
    "\n",
    "fin = open('sampleData/posBinary_150.txt', 'r')\n",
    "data = fin.read()\n",
    "fin.close()\n",
    "\n",
    "data = list(map(lambda s: s.strip(), data))  # remove '/n'\n",
    "data = list(filter(None, data))  # remove empty string\n",
    "# data is a list now\n",
    "\n",
    "baseline = data[0:BASE_COUNT]\n",
    "\n",
    "variables = list(set(baseline))\n",
    "\n",
    "print(variables)"
   ]
  },
  {
   "cell_type": "code",
   "execution_count": 37,
   "metadata": {
    "collapsed": false
   },
   "outputs": [
    {
     "name": "stdout",
     "output_type": "stream",
     "text": [
      "(0.0, 1.0)\n",
      "(0.0, 1.0)\n",
      "(0.0, 1.0)\n",
      "(0.33333333333333337, 0.5637028616507731)\n",
      "(1.3333333333333335, 0.24821307898992351)\n",
      "(1.3333333333333335, 0.24821307898992351)\n",
      "(2.0833333333333335, 0.14891467317876594)\n",
      "(1.3333333333333335, 0.24821307898992351)\n",
      "(0.0, 1.0)\n",
      "(0.33333333333333337, 0.5637028616507731)\n",
      "(0.33333333333333337, 0.5637028616507731)\n",
      "(0.33333333333333337, 0.5637028616507731)\n",
      "(1.3333333333333335, 0.24821307898992351)\n",
      "(1.3333333333333335, 0.24821307898992351)\n",
      "(1.3333333333333335, 0.24821307898992351)\n",
      "(0.75, 0.3864762307712325)\n",
      "(0.33333333333333337, 0.5637028616507731)\n",
      "(1.3333333333333335, 0.24821307898992351)\n",
      "(3.0, 0.08326451666355042)\n",
      "(2.0833333333333335, 0.14891467317876594)\n",
      "(0.75, 0.3864762307712325)\n",
      "(0.33333333333333337, 0.5637028616507731)\n",
      "(0.083333333333333343, 0.77282999268444752)\n",
      "(2.0833333333333335, 0.14891467317876594)\n",
      "(4.0833333333333339, 0.043308142810791983)\n",
      "(8.3333333333333339, 0.0038924171227786371)\n",
      "(8.3333333333333339, 0.0038924171227786371)\n",
      "(6.75, 0.0093747684594349002)\n",
      "(8.3333333333333339, 0.0038924171227786371)\n",
      "(12.0, 0.00053200550513924922)\n",
      "(16.333333333333336, 5.3121281594117112e-05)\n",
      "(14.083333333333332, 0.00017488659254209313)\n",
      "(14.083333333333332, 0.00017488659254209313)\n",
      "(10.083333333333332, 0.0014961642897455517)\n",
      "(14.083333333333332, 0.00017488659254209313)\n",
      "(12.0, 0.00053200550513924922)\n",
      "(10.083333333333332, 0.0014961642897455517)\n",
      "(16.333333333333336, 5.3121281594117112e-05)\n",
      "(16.333333333333336, 5.3121281594117112e-05)\n",
      "(21.333333333333336, 3.8596164369284457e-06)\n",
      "(18.75, 1.4902335792427685e-05)\n",
      "(21.333333333333336, 3.8596164369284457e-06)\n",
      "(21.333333333333336, 3.8596164369284457e-06)\n",
      "(27.0, 2.0345546145444302e-07)\n",
      "(24.083333333333332, 9.225533466358126e-07)\n",
      "(24.083333333333332, 9.225533466358126e-07)\n",
      "(30.083333333333336, 4.1387293910008334e-08)\n",
      "(30.083333333333336, 4.1387293910008334e-08)\n",
      "(30.083333333333336, 4.1387293910008334e-08)\n",
      "(24.083333333333332, 9.225533466358126e-07)\n",
      "(27.0, 2.0345546145444302e-07)\n",
      "(27.0, 2.0345546145444302e-07)\n",
      "(30.083333333333336, 4.1387293910008334e-08)\n"
     ]
    }
   ],
   "source": [
    "%matplotlib inline \n",
    "from __future__ import division\n",
    "import numpy as np\n",
    "import matplotlib.pylab as plt\n",
    "import pandas as pd\n",
    "from scipy.stats import chisquare\n",
    "\n",
    "WINDOW_LEN = 50\n",
    "MOVING_INTERVAL = 5\n",
    "\n",
    "\n",
    "freq_old = np.zeros(len(variables))\n",
    "freq = np.zeros(len(variables))\n",
    "\n",
    "\n",
    "for i in range(len(variables)):\n",
    "    freq_old[i] = baseline.count(variables[i])\n",
    "\n",
    "k = MOVING_INTERVAL\n",
    "while (k + WINDOW_LEN < len(data)):\n",
    "    for i in range(len(variables)):\n",
    "        sample = data[k:k+WINDOW_LEN]\n",
    "        freq[i] = sample.count(variables[i])\n",
    "    \n",
    "    chi = chisquare(freq, freq_old)\n",
    "    print(k,chi)\n",
    "    \n",
    "    k = k + MOVING_INTERVAL\n",
    "    "
   ]
  },
  {
   "cell_type": "code",
   "execution_count": 33,
   "metadata": {
    "collapsed": false
   },
   "outputs": [
    {
     "data": {
      "text/plain": [
       "174"
      ]
     },
     "execution_count": 33,
     "metadata": {},
     "output_type": "execute_result"
    }
   ],
   "source": [
    "data.count(variables[0])"
   ]
  }
 ],
 "metadata": {
  "kernelspec": {
   "display_name": "Python 3",
   "language": "python",
   "name": "python3"
  },
  "language_info": {
   "codemirror_mode": {
    "name": "ipython",
    "version": 3
   },
   "file_extension": ".py",
   "mimetype": "text/x-python",
   "name": "python",
   "nbconvert_exporter": "python",
   "pygments_lexer": "ipython3",
   "version": "3.4.3"
  }
 },
 "nbformat": 4,
 "nbformat_minor": 0
}
