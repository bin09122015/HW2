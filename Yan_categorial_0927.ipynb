{
 "cells": [
  {
   "cell_type": "code",
   "execution_count": 173,
   "metadata": {
    "collapsed": false
   },
   "outputs": [],
   "source": [
    "import sys\n",
    "import os\n",
    "\n",
    "%matplotlib inline \n",
    "from __future__ import division\n",
    "import numpy as np\n",
    "import matplotlib.pylab as plt\n",
    "import pandas as pd\n",
    "from scipy.stats import chisquare, chi2_contingency\n",
    "\n",
    "BASE_COUNT = 50\n",
    "\n",
    "def detectChange_Categoral(file, threshold, WINDOW_LEN, MOVING_INTERVAL):\n",
    "    fin = open(file, 'r')\n",
    "    data = fin.read()\n",
    "    fin.close()\n",
    "\n",
    "    data = list(map(lambda s: s.strip(), data))  # remove '/n'\n",
    "    data = list(filter(None, data))  # remove empty string\n",
    "    # data is a list now\n",
    "\n",
    "    baseline = data[0:BASE_COUNT]\n",
    "\n",
    "    variables = list(set(baseline))\n",
    "\n",
    "    print(variables)\n",
    "    \n",
    "\n",
    "    freq_old = np.zeros(len(variables))\n",
    "    freq = np.zeros(len(variables))\n",
    "\n",
    "\n",
    "    for i in range(len(variables)):\n",
    "        freq_old[i] = baseline[0:WINDOW_LEN].count(variables[i])\n",
    "\n",
    "    k = 0\n",
    "    while (k + 2 * WINDOW_LEN < len(data)):\n",
    "        for i in range(len(variables)):\n",
    "            sample = data[k:k+WINDOW_LEN]\n",
    "            freq_old[i] = sample.count(variables[i])\n",
    "\n",
    "            sample = data[k+WINDOW_LEN : k+2*WINDOW_LEN]\n",
    "            freq[i] = sample.count(variables[i])\n",
    "\n",
    "        if (sum(freq==0)>0 or sum(freq_old==0)>0):\n",
    "            chi = chisquare(freq, freq_old)\n",
    "        else:\n",
    "            chi = chi2_contingency([freq,freq_old], correction=True)\n",
    "            \n",
    "        if (len(variables)==2):\n",
    "            chi = chisquare(freq, freq_old)\n",
    "        \n",
    "        #print(k,chi[1], freq, freq_old)\n",
    "\n",
    "        if(k + WINDOW_LEN>50 and chi[1]<threshold):\n",
    "            return k+WINDOW_LEN\n",
    "\n",
    "        k = k + MOVING_INTERVAL\n",
    "        freq_old = freq.copy()\n",
    "        \n",
    "    \n",
    "    return -1\n",
    "    \n",
    "    \n",
    "    "
   ]
  },
  {
   "cell_type": "code",
   "execution_count": 175,
   "metadata": {
    "collapsed": false
   },
   "outputs": [
    {
     "name": "stdout",
     "output_type": "stream",
     "text": [
      "sampleData/posTriple_175.txt\n",
      "['a', 'b', 'c']\n",
      "change\n",
      "150\n",
      "sampleData/posTripleDouble_175.txt\n",
      "['b', 'c', 'a']\n",
      "change\n",
      "170\n",
      "sampleData/posTriple2_160.txt\n",
      "['a', 'c', 'b']\n",
      "change\n",
      "155\n",
      "sampleData/posBinary_150.txt\n",
      "['b', 'a']\n",
      "change\n",
      "130\n",
      "sampleData/negTriple.txt\n",
      "['a', 'c', 'b']\n",
      "-1\n",
      "sampleData/negBinary.txt\n",
      "['b', 'a']\n",
      "-1\n",
      "sampleData/negWithRare.txt\n",
      "['a', 'b', 'c']\n",
      "-1\n"
     ]
    }
   ],
   "source": [
    "files = ['sampleData/posTriple_175.txt', 'sampleData/posTripleDouble_175.txt', 'sampleData/posTriple2_160.txt', \n",
    "        'sampleData/posBinary_150.txt', 'sampleData/negTriple.txt', 'sampleData/negBinary.txt',\n",
    "        'sampleData/negWithRare.txt']\n",
    "\n",
    "WINDOW_LEN = 40\n",
    "MOVING_INTERVAL = 5\n",
    "\n",
    "# 40, 5, 0.0005 works good so far.\n",
    "\n",
    "#files = ['sampleData/posBinary_150.txt']\n",
    "\n",
    "for i in range(len(files)):\n",
    "    file = files[i]\n",
    "    print(file)\n",
    "    print(detectChange_Categoral(file, 0.0005, 40, 5))"
   ]
  },
  {
   "cell_type": "code",
   "execution_count": 148,
   "metadata": {
    "collapsed": false
   },
   "outputs": [
    {
     "name": "stdout",
     "output_type": "stream",
     "text": [
      "170.0\n"
     ]
    }
   ],
   "source": [
    "print((155+185)/2)"
   ]
  }
 ],
 "metadata": {
  "kernelspec": {
   "display_name": "Python 3",
   "language": "python",
   "name": "python3"
  },
  "language_info": {
   "codemirror_mode": {
    "name": "ipython",
    "version": 3
   },
   "file_extension": ".py",
   "mimetype": "text/x-python",
   "name": "python",
   "nbconvert_exporter": "python",
   "pygments_lexer": "ipython3",
   "version": "3.4.3"
  }
 },
 "nbformat": 4,
 "nbformat_minor": 0
}
